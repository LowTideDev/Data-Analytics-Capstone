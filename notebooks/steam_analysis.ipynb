{
 "cells": [
  {
   "cell_type": "markdown",
   "id": "2e20a6f2",
   "metadata": {},
   "source": [
    "# Steam Games Analysis"
   ]
  },
  {
   "cell_type": "markdown",
   "id": "7e97aa74",
   "metadata": {},
   "source": [
    "**Research Question**: What factors—such as genre, price, and release timing—correlate with higher owner estimates for Steam games?\n",
    "\n",
    "**Hypothesis**: Games in genres like Action/RPG, priced in the mid-tier, and released during peak periods (holidays or early in the year) have higher owner counts.\n",
    "\n",
    "**Anticipated Outcomes**: A cleaned dataset, exploratory visualizations, simple predictive models, and practical recommendations for indie developers."
   ]
  },
  {
   "cell_type": "markdown",
   "id": "cdf895b7",
   "metadata": {},
   "source": [
    "## 1. Ingest\n",
    "Merge CSV and JSON chunks in memory only. Do not create new consolidated files on disk."
   ]
  },
  {
   "cell_type": "code",
   "execution_count": null,
   "id": "4cde8104",
   "metadata": {},
   "outputs": [],
   "source": [
    "import pandas as pd\n",
    "import glob\n",
    "import json\n",
    "import re\n",
    "import matplotlib.pyplot as plt\n",
    "import seaborn as sns\n",
    "from sklearn.model_selection import train_test_split\n",
    "from sklearn.linear_model import LinearRegression, LogisticRegression\n",
    "from sklearn.metrics import mean_absolute_error\n",
    "from sklearn.cluster import KMeans"
   ]
  },
  {
   "cell_type": "code",
   "execution_count": null,
   "id": "7b45233d",
   "metadata": {},
   "outputs": [],
   "source": [
    "# Merge CSV parts into a single DataFrame but keep it in memory\n",
    "csv_files = sorted(glob.glob('games_part_*.csv'))\n",
    "if csv_files:\n",
    "    cols = pd.read_csv(csv_files[0], nrows=0).columns.tolist()\n",
    "    shifted = cols[1:] + ['extra']\n",
    "    parts = []\n",
    "    for f in csv_files:\n",
    "        part = pd.read_csv(f)\n",
    "        part.columns = shifted\n",
    "        parts.append(part)\n",
    "    df = pd.concat(parts, ignore_index=True).drop(columns=['extra'])\n",
    "    print('Loaded', len(df), 'rows from CSV parts')\n",
    "else:\n",
    "    df = pd.DataFrame()\n",
    "    print('No CSV parts found')\n",
    "\n",
    "# Merge JSON parts into one dictionary (also in memory)\n",
    "json_files = sorted(glob.glob('games_json_part_*.json'))\n",
    "merged_json = {}\n",
    "for fp in json_files:\n",
    "    with open(fp) as f:\n",
    "        merged_json.update(json.load(f))\n",
    "print('Merged', len(merged_json), 'JSON records')"
   ]
  },
  {
   "cell_type": "markdown",
   "id": "e9eb0081",
   "metadata": {},
   "source": [
    "**Note:** Avoid saving the merged dataset (e.g., `games_clean.csv`) in this repository."
   ]
  },
  {
   "cell_type": "markdown",
   "id": "dd3c296a",
   "metadata": {},
   "source": [
    "## 2. Cleaning\n",
    "Parse dates, prices, and owner ranges."
   ]
  },
  {
   "cell_type": "code",
   "execution_count": null,
   "id": "35334df8",
   "metadata": {},
   "outputs": [],
   "source": [
    "# Use the DataFrame from the previous step if available\n",
    "if 'df' not in globals():\n",
    "    raise RuntimeError(\"Run the ingestion step first to load df.\")\n",
    "\n",
    "# Standardize column names\n",
    "df.columns = [c.strip().lower().replace(' ', '_') for c in df.columns]\n",
    "\n",
    "# Convert release dates\n",
    "df['release_date'] = pd.to_datetime(df['release_date'], errors='coerce')\n",
    "\n",
    "# Convert price field to numeric\n",
    "df['price'] = (df['price'].astype(str).str.replace('$', '', regex=False)\n",
    "                         .replace({'Free': '0', '': '0'}))\n",
    "df['price'] = pd.to_numeric(df['price'], errors='coerce')\n",
    "\n",
    "# Parse owner ranges like '20,000 - 50,000'\n",
    "def parse_owner_range(text):\n",
    "    if isinstance(text, str):\n",
    "        text = text.replace(',', '')\n",
    "        m = re.match(r'(\\d+)[^\\d]+(\\d+)', text)\n",
    "        if m:\n",
    "            low, high = int(m.group(1)), int(m.group(2))\n",
    "            return (low + high) // 2\n",
    "    return pd.NA\n",
    "df['estimated_owners_mid'] = df['estimated_owners'].apply(parse_owner_range)\n",
    "\n",
    "# Drop rows with missing critical fields\n",
    "df.dropna(subset=['release_date', 'price', 'estimated_owners_mid'], inplace=True)\n",
    "print('Cleaned rows:', len(df))\n",
    "# df.to_csv('games_clean.csv', index=False)# Do not save merged data to repo\n"
   ]
  },
  {
   "cell_type": "markdown",
   "id": "bc57c8c4",
   "metadata": {},
   "source": [
    "### 🧼 Final Data Cleaning\n",
    "\n",
    "To improve the reliability of analysis and modeling, we apply several filters to remove outliers and normalize data distributions:\n",
    "\n",
    "- **Price** is capped at $100 to exclude edge cases\n",
    "- **Estimated owners** limited to 1 million max\n",
    "- **Release year** restricted to 2000–2025\n",
    "- Games with fewer than 10 total reviews are removed\n",
    "- A new `review_ratio` column is added to normalize sentiment\n",
    "\n",
    "This ensures visualizations and models aren’t dominated by extreme values or noise.\n"
   ]
  },
  {
   "cell_type": "code",
   "execution_count": null,
   "id": "463a03b3",
   "metadata": {},
   "outputs": [],
   "source": [
    "# 🧼 Final Data Cleaning: Remove outliers, fix skewed distributions\n",
    "\n",
    "# Drop games with invalid or extreme price\n",
    "df = df[(df['price'] >= 0) & (df['price'] <= 100)]\n",
    "\n",
    "# Drop games with outlier owner counts\n",
    "df = df[df['estimated_owners_mid'] <= 1_000_000]\n",
    "df['release_year'] = df['release_date'].dt.year\n",
    "\n",
    "# Drop games with unrealistic release years\n",
    "df = df[(df['release_year'] >= 2000) & (df['release_year'] <= 2025)]\n",
    "\n",
    "# Drop games with too few reviews\n",
    "df = df[(df['positive'] + df['negative']) >= 10]\n",
    "\n",
    "# Add review ratio feature\n",
    "df['review_ratio'] = df['positive'] / (df['positive'] + df['negative'])\n",
    "\n",
    "df.reset_index(drop=True, inplace=True)\n",
    "df.info()\n",
    "df.describe()"
   ]
  },
  {
   "cell_type": "markdown",
   "id": "c85fc633",
   "metadata": {},
   "source": [
    "## 3. Exploration\n",
    "Display basic statistics and visualizations."
   ]
  },
  {
   "cell_type": "code",
   "execution_count": null,
   "id": "036b543a",
   "metadata": {},
   "outputs": [],
   "source": [
    "# using cleaned df from previous step\n",
    "print(df[['price', 'estimated_owners_mid']].describe())\n",
    "df['release_year'] = df['release_date'].dt.year\n",
    "df.groupby('release_year')['estimated_owners_mid'].mean().plot(kind='bar')\n",
    "plt.ylabel('Average owners (midpoint)')\n",
    "plt.title('Average Estimated Owners by Release Year')\n",
    "plt.tight_layout()\n",
    "plt.show()"
   ]
  },
  {
   "cell_type": "markdown",
   "id": "b806a14c",
   "metadata": {},
   "source": [
    "## 4. Exploratory Analysis\n",
    "Summarize genres, price ranges, and release timing. Visualize correlations and inspect outliers."
   ]
  },
  {
   "cell_type": "code",
   "execution_count": null,
   "id": "69be1f23",
   "metadata": {},
   "outputs": [],
   "source": [
    "\n",
    "_df = df.copy()  # use cleaned df from previous step\n",
    "\n",
    "# Genre distribution\n",
    "genre_counts = _df['genres'].dropna().str.split(',').explode().str.strip().value_counts()\n",
    "print('Top genres:', genre_counts.head(10))\n",
    "\n",
    "# Price range distribution\n",
    "price_bins = pd.cut(_df['price'], bins=[0,5,10,30,100], include_lowest=True, labels=['$0-5','$5-10','$10-30','$30+'])\n",
    "print('Price range counts:', price_bins.value_counts().sort_index())\n",
    "\n",
    "# Release timing\n",
    "_df['release_year'] = _df['release_date'].dt.year\n",
    "_df['release_quarter'] = _df['release_date'].dt.to_period('Q')\n",
    "print('Releases by year:', _df['release_year'].value_counts().sort_index().tail())\n",
    "\n",
    "fig, axs = plt.subplots(2,2, figsize=(12,10))\n",
    "genre_counts.head(10).plot(kind='bar', ax=axs[0,0])\n",
    "axs[0,0].set_title('Top Genres')\n",
    "axs[0,0].set_xlabel('')\n",
    "\n",
    "price_bins.value_counts().sort_index().plot(kind='bar', ax=axs[0,1])\n",
    "axs[0,1].set_title('Price Ranges')\n",
    "axs[0,1].set_xlabel('Price Bin')\n",
    "\n",
    "_df.groupby('release_year')['estimated_owners_mid'].mean().plot(ax=axs[1,0])\n",
    "axs[1,0].set_title('Avg Owners by Year')\n",
    "axs[1,0].set_xlabel('Year')\n",
    "axs[1,0].set_ylabel('Avg Owners')\n",
    "\n",
    "sns.scatterplot(data=_df, x='price', y='estimated_owners_mid', ax=axs[1,1])\n",
    "axs[1,1].set_title('Price vs Owners')\n",
    "plt.tight_layout()\n",
    "plt.show()\n",
    "\n",
    "outliers = _df[_df['estimated_owners_mid'] > _df['estimated_owners_mid'].quantile(0.99)]\n",
    "print('Sample outliers:', outliers[['name','price','estimated_owners_mid']].head())"
   ]
  },
  {
   "cell_type": "markdown",
   "id": "9c8e5c51",
   "metadata": {},
   "source": [
    "## 5. Feature Engineering\n",
    "Derive release year/month, price tiers, and basic genre encoding."
   ]
  },
  {
   "cell_type": "code",
   "execution_count": null,
   "id": "dbb14034",
   "metadata": {},
   "outputs": [],
   "source": [
    "# using cleaned df from previous step\n",
    "# Release year and month\n",
    "df['release_year'] = df['release_date'].dt.year\n",
    "df['release_month'] = df['release_date'].dt.month\n",
    "# Price tiers\n",
    "bins = [-0.01, 0, 10, 30, float('inf')]\n",
    "labels = ['free', '<$10', '$10-30', '>$30']\n",
    "df['price_tier'] = pd.cut(df['price'], bins=bins, labels=labels)\n",
    "# Simplify genres and one-hot encode for modeling\n",
    "if 'genres' in df.columns:\n",
    "    df['main_genre'] = df['genres'].str.split(',').str[0]\n",
    "    genre_dummies = pd.get_dummies(df['main_genre'], prefix='genre')\n",
    "    df = pd.concat([df, genre_dummies], axis=1)\n",
    "print(df[['price', 'price_tier', 'release_year', 'release_month', 'main_genre']].head())"
   ]
  },
  {
   "cell_type": "markdown",
   "id": "f1471e4a",
   "metadata": {},
   "source": [
    "## 6. Modeling\n",
    "Predict owner estimates using price, genre, and release timing."
   ]
  },
  {
   "cell_type": "code",
   "execution_count": null,
   "id": "22903865",
   "metadata": {},
   "outputs": [],
   "source": [
    "\n",
    "model_df = df.copy()  # use cleaned df from previous step\n",
    "model_df['release_year'] = model_df['release_date'].dt.year\n",
    "model_df['release_month'] = model_df['release_date'].dt.month\n",
    "model_df['main_genre'] = model_df.get('genres', '').str.split(',').str[0]\n",
    "genre_dummies = pd.get_dummies(model_df['main_genre'], prefix='genre')\n",
    "X = pd.concat([model_df[['price', 'release_year', 'release_month']], genre_dummies], axis=1).fillna(0)\n",
    "y = model_df['estimated_owners_mid']\n",
    "X_train, X_test, y_train, y_test = train_test_split(X, y, test_size=0.2, random_state=42)\n",
    "reg = LinearRegression()\n",
    "reg.fit(X_train, y_train)\n",
    "pred = reg.predict(X_test)\n",
    "print('Linear MAE', mean_absolute_error(y_test, pred))\n",
    "y_class = (y >= y.median()).astype(int)\n",
    "X_train, X_test, y_train, y_test = train_test_split(X, y_class, test_size=0.2, random_state=42)\n",
    "clf = LogisticRegression(max_iter=1000)\n",
    "clf.fit(X_train, y_train)\n",
    "print('Classification accuracy', clf.score(X_test, y_test))\n",
    "km = KMeans(n_clusters=3, random_state=42)\n",
    "clusters = km.fit_predict(X)\n",
    "model_df['cluster'] = clusters\n",
    "print(model_df['cluster'].value_counts())"
   ]
  },
  {
   "cell_type": "markdown",
   "id": "a55ae126",
   "metadata": {},
   "source": [
    "## 7. Visualization and Reporting\n",
    "Use charts to illustrate relationships and summarize key findings."
   ]
  },
  {
   "cell_type": "code",
   "execution_count": null,
   "id": "0a1cec3b",
   "metadata": {},
   "outputs": [],
   "source": [
    "\n",
    "viz_df = df.copy()  # use cleaned df from previous step\n",
    "\n",
    "# Ensure features\n",
    "viz_df['release_year'] = viz_df['release_date'].dt.year\n",
    "viz_df['release_month'] = viz_df['release_date'].dt.month\n",
    "viz_df['main_genre'] = viz_df.get('genres', '').str.split(',').str[0]\n",
    "viz_df['price_tier'] = pd.cut(viz_df['price'], bins=[-0.01,0,10,30,float('inf')], labels=['free','<$10','$10-30','>$30'])\n",
    "avg_by_genre = viz_df.groupby('main_genre')['estimated_owners_mid'].mean().sort_values(ascending=False).head(10)\n",
    "sns.barplot(x=avg_by_genre.values, y=avg_by_genre.index)\n",
    "plt.title('Avg Estimated Owners by Genre')\n",
    "plt.xlabel('Avg Owners (mid)')\n",
    "plt.ylabel('Genre')\n",
    "plt.tight_layout()\n",
    "plt.show()\n",
    "sns.scatterplot(data=viz_df, x='price', y='estimated_owners_mid', hue='price_tier', alpha=0.6)\n",
    "plt.title('Price vs Owners by Price Tier')\n",
    "plt.tight_layout()\n",
    "plt.show()\n",
    "corr = viz_df[['price', 'release_year', 'release_month', 'estimated_owners_mid']].corr()\n",
    "sns.heatmap(corr, annot=True, cmap='coolwarm')\n",
    "plt.title('Correlation Heatmap')\n",
    "plt.tight_layout()\n",
    "plt.show()"
   ]
  },
  {
   "cell_type": "markdown",
   "id": "a2574fb7",
   "metadata": {},
   "source": [
    "### Practical Insights for Indie Developers\n",
    "- **Genres**: Games in popular genres such as Action or RPG tend to show higher average owner counts in this dataset.\n",
    "- **Price Points**: Mid-tier pricing (roughly $10–$30) generally aligns with more owners than either free or very expensive titles.\n",
    "- **Release Windows**: Titles released near major holidays or early in the year typically see higher ownership, suggesting these periods may offer greater visibility.\n"
   ]
  }
 ],
 "metadata": {
  "kernelspec": {
   "display_name": "Python 3 (ipykernel)",
   "language": "python",
   "name": "python3"
  },
  "language_info": {
   "codemirror_mode": {
    "name": "ipython",
    "version": 3
   },
   "file_extension": ".py",
   "mimetype": "text/x-python",
   "name": "python",
   "nbconvert_exporter": "python",
   "pygments_lexer": "ipython3",
   "version": "3.12.0"
  }
 },
 "nbformat": 4,
 "nbformat_minor": 5
}
