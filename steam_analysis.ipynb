{
 "cells": [
  {
   "cell_type": "markdown",
   "id": "2e20a6f2",
   "metadata": {},
   "source": [
    "# Steam Games Analysis"
   ]
  },
  {
   "cell_type": "markdown",
   "id": "cdf895b7",
   "metadata": {},
   "source": [
    "## 1. Ingest\n",
    "Merge CSV and JSON chunks into consolidated files."
   ]
  },
  {
   "cell_type": "code",
   "execution_count": null,
   "id": "7b45233d",
   "metadata": {},
   "outputs": [],
   "source": [
    "import pandas as pd, glob, json\n",
    "\n",
    "# Merge CSV parts\n",
    "csv_files = sorted(glob.glob('games_part_*.csv'))\n",
    "if csv_files:\n",
    "    df = pd.concat((pd.read_csv(f) for f in csv_files), ignore_index=True)\n",
    "    df.to_csv('games.csv', index=False)\n",
    "    print('games.csv created with', len(df), 'rows')\n",
    "else:\n",
    "    print('No CSV parts found')\n",
    "\n",
    "# Merge JSON parts\n",
    "json_files = sorted(glob.glob('games_json_part_*.json'))\n",
    "merged = {}\n",
    "for fp in json_files:\n",
    "    with open(fp) as f:\n",
    "        merged.update(json.load(f))\n",
    "if merged:\n",
    "    with open('games.json', 'w') as f:\n",
    "        json.dump(merged, f)\n",
    "    print('games.json created with', len(merged), 'records')\n",
    "else:\n",
    "    print('No JSON parts found')\n"
   ]
  },
  {
   "cell_type": "markdown",
   "id": "dd3c296a",
   "metadata": {},
   "source": [
    "## 2. Cleaning\n",
    "Parse dates, prices, and owner ranges."
   ]
  },
  {
   "cell_type": "code",
   "execution_count": null,
   "id": "35334df8",
   "metadata": {},
   "outputs": [],
   "source": [
    "import pandas as pd\n",
    "\n",
    "df = pd.read_csv('games.csv')\n",
    "\n",
    "# Convert release_date to datetime\n",
    "df['release_date'] = pd.to_datetime(df['release_date'], errors='coerce')\n",
    "\n",
    "# Convert price from string to numeric\n",
    "df['price'] = (df['price'].str.replace('$', '', regex=False).astype(float))\n",
    "\n",
    "# Parse owner ranges like '20,000 .. 50,000' to midpoint\n",
    "def parse_owners(x):\n",
    "    try:\n",
    "        low, high = x.split(' .. ')\n",
    "        low, high = low.replace(',', ''), high.replace(',', '')\n",
    "        return (int(low) + int(high)) // 2\n",
    "    except Exception:\n",
    "        return pd.NA\n",
    "\n",
    "df['estimated_owners_mid'] = df['estimated_owners'].apply(parse_owners)\n",
    "\n",
    "df.to_csv('games_clean.csv', index=False)\n",
    "print('games_clean.csv saved')\n"
   ]
  },
  {
   "cell_type": "markdown",
   "id": "c85fc633",
   "metadata": {},
   "source": [
    "## 3. Exploration\n",
    "Display basic statistics and visualizations."
   ]
  },
  {
   "cell_type": "code",
   "execution_count": null,
   "id": "036b543a",
   "metadata": {},
   "outputs": [],
   "source": [
    "import pandas as pd, matplotlib.pyplot as plt\n",
    "\n",
    "df = pd.read_csv('games_clean.csv')\n",
    "print(df[['price', 'estimated_owners_mid']].describe())\n",
    "\n",
    "df['release_year'] = df['release_date'].dt.year\n",
    "\n",
    "df.groupby('release_year')['estimated_owners_mid'].mean().plot(kind='bar')\n",
    "plt.ylabel('Average owners (midpoint)')\n",
    "plt.title('Average Estimated Owners by Release Year')\n",
    "plt.tight_layout()\n",
    "plt.show()\n"
   ]
  }
 ],
 "metadata": {},
 "nbformat": 4,
 "nbformat_minor": 5
}
