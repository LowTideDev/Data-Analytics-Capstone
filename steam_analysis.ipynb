{
 "cells": [
  {
   "cell_type": "markdown",
   "id": "2e20a6f2",
   "metadata": {},
   "source": [
    "# Steam Games Analysis"
   ]
  },
  {
   "cell_type": "markdown",
   "id": "cdf895b7",
   "metadata": {},
   "source": [
    "## 1. Ingest\n",
    "Merge CSV and JSON chunks into consolidated files."
   ]
  },
  {
   "cell_type": "code",
   "execution_count": null,
   "id": "7b45233d",
   "metadata": {},
   "outputs": [],
   "source": [
    "import pandas as pd, glob, json\n",
    "\n",
    "# Merge CSV parts\n",
    "csv_files = sorted(glob.glob('games_part_*.csv'))\n",
    "if csv_files:\n",
    "    df = pd.concat((pd.read_csv(f) for f in csv_files), ignore_index=True)\n",
    "    df.to_csv('games.csv', index=False)\n",
    "    print('games.csv created with', len(df), 'rows')\n",
    "else:\n",
    "    print('No CSV parts found')\n",
    "\n",
    "# Merge JSON parts\n",
    "json_files = sorted(glob.glob('games_json_part_*.json'))\n",
    "merged = {}\n",
    "for fp in json_files:\n",
    "    with open(fp) as f:\n",
    "        merged.update(json.load(f))\n",
    "if merged:\n",
    "    with open('games.json', 'w') as f:\n",
    "        json.dump(merged, f)\n",
    "    print('games.json created with', len(merged), 'records')\n",
    "else:\n",
    "    print('No JSON parts found')\n"
   ]
  },
  {
   "cell_type": "markdown",
   "id": "dd3c296a",
   "metadata": {},
   "source": [
    "## 2. Cleaning\n",
    "Parse dates, prices, and owner ranges."
   ]
  },
  {
   "cell_type": "code",
   "execution_count": null,
   "id": "35334df8",
   "metadata": {},
   "outputs": [],
   "source": [
    "import pandas as pd, re\n",
    "\n",
    "# Load merged dataset\n",
    "\n",
    "df = pd.read_csv(\"games.csv\")\n",
    "# Standardize column names\n",
    "\n",
    "df.columns = [c.strip().lower().replace(\" \", \"_\") for c in df.columns]\n",
    "\n",
    "# Convert release dates\n",
    "\n",
    "df[\"release_date\"] = pd.to_datetime(df[\"release_date\"], errors=\"coerce\")\n",
    "\n",
    "# Convert price field to numeric, handling 'Free'\n",
    "\n",
    "df[\"price\"] = (\n",
    "    df[\"price\"].astype(str)\n",
    "                .str.replace(\"$\", \"\", regex=False)\n",
    "                .replace({\"Free\": \"0\", \"\": \"0\"})\n",
    ")\n",
    "df[\"price\"] = pd.to_numeric(df[\"price\"], errors=\"coerce\")\n",
    "\n",
    "# Parse owner ranges like '20,000 - 50,000'\n",
    "\n",
    "def parse_owner_range(text):\n",
    "    if isinstance(text, str):\n",
    "        text = text.replace(\",\", \"\")\n",
    "        m = re.match(r\"(\\d+)[^\\d]+(\\d+)\", text)\n",
    "        if m:\n",
    "            low, high = int(m.group(1)), int(m.group(2))\n",
    "            return (low + high) // 2\n",
    "    return pd.NA\n",
    "\n",
    "df[\"estimated_owners_mid\"] = df[\"estimated_owners\"].apply(parse_owner_range)\n",
    "\n",
    "# Drop rows with missing critical fields\n",
    "\n",
    "df.dropna(subset=[\"release_date\", \"price\", \"estimated_owners_mid\"], inplace=True)\n",
    "\n",
    "# Save cleaned dataset\n",
    "\n",
    "df.to_csv(\"games_clean.csv\", index=False)\n",
    "print(\"games_clean.csv saved with\", len(df), \"rows\")\n"

   ]
  },
  {
   "cell_type": "markdown",
   "id": "c85fc633",
   "metadata": {},
   "source": [
    "## 3. Exploration\n",
    "Display basic statistics and visualizations."
   ]
  },
  {
   "cell_type": "code",
   "execution_count": null,
   "id": "036b543a",
   "metadata": {},
   "outputs": [],
   "source": [
    "import pandas as pd, matplotlib.pyplot as plt\n",
    "\n",
    "df = pd.read_csv('games_clean.csv')\n",
    "print(df[['price', 'estimated_owners_mid']].describe())\n",
    "\n",
    "df['release_year'] = df['release_date'].dt.year\n",
    "\n",
    "df.groupby('release_year')['estimated_owners_mid'].mean().plot(kind='bar')\n",
    "plt.ylabel('Average owners (midpoint)')\n",
    "plt.title('Average Estimated Owners by Release Year')\n",
    "plt.tight_layout()\n",
    "plt.show()\n"
   ]
  }
 ],
 "metadata": {},
 "nbformat": 4,
 "nbformat_minor": 5
}
